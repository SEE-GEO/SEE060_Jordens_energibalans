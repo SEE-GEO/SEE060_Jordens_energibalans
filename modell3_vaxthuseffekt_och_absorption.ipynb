{
 "cells": [
  {
   "cell_type": "markdown",
   "id": "0f0cd9f3-28c8-4a42-b191-06b9dbe4d74a",
   "metadata": {},
   "source": [
    "# Energibalansmodell med växthuseffekt och absorption av solstrålning"
   ]
  },
  {
   "cell_type": "markdown",
   "id": "accd71a5-3131-40af-b843-ddd07485d29f",
   "metadata": {},
   "source": [
    "## Beskrivning\n",
    "\n",
    "I den sista modellen har vi lagt till ännu en faktor,\n",
    "nämligen absorption av kortvågig solstrålning i atmosfären.\n",
    "Notera att både den inkommande och reflekterade solstrålningen absorberas när den passerar atmosfären.\n",
    "\n",
    "<figure>\n",
    "    <img src=\"media/modell3.png\" alt=\"Energibalansmodell med växthuseffekt och absorption av solstrålning\" width=\"600px\">\n",
    "    <figcaption>Bild på energibalansmodell med växthuseffekt absorption av solstrålning i ett atmosfärslager</figcaption>\n",
    "</figure>\n",
    "\n",
    "Andelen kortvågig som absorberas styrs av atmosfärens optiska absorptionsförmåga.\n",
    "Modellen har alltså fyra parametrar:\n",
    "\n",
    "- Solstrålningens intensitet (i förhållande till dagens värde) ($S$)\n",
    "- Planetens albedo ($A$)\n",
    "- Atmosfärens emissivitet ($\\varepsilon$)\n",
    "- Atmosfärens optiska absorptionsförmåga (\"absorptivitet\") ($\\alpha$)"
   ]
  },
  {
   "cell_type": "markdown",
   "id": "06d0206f-0291-41cf-9a31-23a44ebca599",
   "metadata": {},
   "source": [
    "## Matematisk härledning\n",
    "\n",
    "### Variabler\n",
    "\n",
    "- $T_s$: Markens temperatur\n",
    "- $T_a$: Atmosfärens temperatur\n",
    "- $S$: Solstrålningens intensitet\n",
    "- $A$: Planetens albedo\n",
    "- $\\varepsilon$: Atmosfären emissivitet för infraröd strålning\n",
    "- $\\alpha$ Atmosfärens absorptionsförmåga för kortvågig strålning\n",
    "- $\\sigma$: Stefan-Boltzmanns konstant\n",
    "\n",
    "### Härledning\n",
    "\n",
    "Den här gången börjar vi med jämvikten vid markytan:\n",
    "$$\\frac{S}{4}\\underbrace{(1 - \\alpha)(1 - A)}_{A'} + \\varepsilon \\sigma T_a^4 = \\sigma T_s^4$$\n",
    "\n",
    "För att göra det lite lättare introducerar vi variabeln $A'$.\n",
    "\n",
    "Vid toppen av atmosfären har vi jämvikten:\n",
    "$$\\frac{S}{4} = \\frac{S}{4} \\underbrace{(1-\\alpha)^2 A}_{A_e} + (1 - \\varepsilon) \\sigma T_s^4 + \\varepsilon \\sigma T_a^4$$\n",
    "\n",
    "Även här introducerar vi en ny variabel, $A_e$, för att göra uttrycken nedan lite kortare.\n",
    "\n",
    "Lös nu ut $T_s$ och $T_a$.\n",
    "Ett tips för att göra det lite lättare är att skriva om båda ekvationerna ovan så du får två uttryck för $\\varepsilon \\sigma T_a^4$:\n",
    "$$\\varepsilon \\sigma T_a^4 = \\sigma T_s^4 - \\frac{S}{4}A'$$\n",
    "$$\\varepsilon \\sigma T_a^4 = \\frac{S}{4}(1 - A_e) - (1 - \\varepsilon)\\sigma T_s^4$$\n",
    "\n",
    "Nu kan du sätta högerleden lika med varandra och lösa ut $T_s$.\n",
    "En liknande metod kan användas för att få $T_a$.\n",
    "\n",
    "Testa lite själv!"
   ]
  },
  {
   "cell_type": "markdown",
   "id": "a899c130-a68c-4fd4-bc02-0970d4c7d88f",
   "metadata": {},
   "source": [
    "<details>\n",
    "<summary><b>Lösning</b></summary>\n",
    "Jämviktstemperaturen vid markytan ges av:\n",
    "$$T_s = \\left( \\frac{S (1 - A_e + A')}{4\\sigma (2 - \\varepsilon)} \\right)^{1/4}$$\n",
    "\n",
    "Atmosfärens jämviktstemperatur:\n",
    "$$T_a = \\left( \\frac{S(1 - A_e - A' (1 - \\varepsilon ))}{4\\varepsilon \\sigma (2 - \\varepsilon)} \\right)^{1/4}$$\n",
    "</details>"
   ]
  },
  {
   "cell_type": "markdown",
   "id": "c3b06d93-806c-4a28-aee1-d711450863f4",
   "metadata": {},
   "source": [
    "## Modellkod\n",
    "\n",
    "Du vet vad du ska göra.\n",
    "\n",
    "<div class=\"alert alert-block alert-info\">\n",
    "    <b>Obs:</b> Cellen nedan är skrivskyddad.\n",
    "</div>"
   ]
  },
  {
   "cell_type": "code",
   "execution_count": null,
   "id": "8be62dca-18b3-4879-8e8e-7ad8552c4eed",
   "metadata": {
    "editable": false
   },
   "outputs": [],
   "source": [
    "%matplotlib widget\n",
    "import constants\n",
    "import model\n",
    "\n",
    "\n",
    "def radiation_model_greenhouse_effect_and_solar_absorption(\n",
    "    solar_intensity_percent, planet_albedo, infrared_emissivity, optical_absorptivity\n",
    "):\n",
    "    \"\"\"Energy balance model of the Earth that includes the greenhouse effect and solar\n",
    "    absorption in the atmosphere.\n",
    "\n",
    "    Returns the surface and atmospheric temperatures in degree Celsius.\n",
    "    \"\"\"\n",
    "    solar_intensity = solar_intensity_percent / 100 * constants.SOLAR_INTENSITY\n",
    "    sigma = constants.STEFAN_BOLTZMANN_CONSTANT\n",
    "\n",
    "    # A_prime is the fraction of absorbed solar radiation at the surface\n",
    "    A_prime = (1 - optical_absorptivity) * (1 - planet_albedo)\n",
    "\n",
    "    # A_e is the fraction of solar radiation that is reflected back to space at the top\n",
    "    # of the atmosphere\n",
    "    A_e = (1 - optical_absorptivity) ** 2 * planet_albedo\n",
    "\n",
    "    sfc_temp_K = (\n",
    "        (solar_intensity * (1 - A_e + A_prime))\n",
    "        / (4 * sigma * (2 - infrared_emissivity))\n",
    "    ) ** (1 / 4)\n",
    "\n",
    "    atm_temp_K = (\n",
    "        (solar_intensity * (1 - A_e - A_prime * (1 - infrared_emissivity)))\n",
    "        / (4 * infrared_emissivity * sigma * (2 - infrared_emissivity))\n",
    "    ) ** (1 / 4)\n",
    "\n",
    "    sfc_temp_C = sfc_temp_K + constants.ABSOLUTE_ZERO_DEG_C\n",
    "    atm_temp_C = atm_temp_K + constants.ABSOLUTE_ZERO_DEG_C\n",
    "    \n",
    "    temperatures = {\n",
    "        \"Surface temperature\": sfc_temp_C,\n",
    "        \"Atmospheric temperature\": atm_temp_C,\n",
    "    }\n",
    "\n",
    "    return temperatures\n",
    "\n",
    "\n",
    "model.run(\n",
    "    model=radiation_model_greenhouse_effect_and_solar_absorption,\n",
    "    parameters={\n",
    "        \"solar_intensity_percent\": 100.0,\n",
    "        \"planet_albedo\": 0.3,\n",
    "        \"infrared_emissivity\": 0.9,\n",
    "        \"optical_absorptivity\": 0.105,\n",
    "    },\n",
    "    title=\"With greenhouse effect and solar absorption\",\n",
    ")"
   ]
  },
  {
   "cell_type": "markdown",
   "id": "0ab8b33d-3852-491d-8deb-f32b217fc00f",
   "metadata": {
    "editable": true,
    "slideshow": {
     "slide_type": ""
    },
    "tags": []
   },
   "source": [
    "Eller med kod (du måste ha kört kodcellen ovan först):"
   ]
  },
  {
   "cell_type": "code",
   "execution_count": null,
   "id": "834866a0-2555-441b-99d1-7c320e5bc549",
   "metadata": {
    "editable": true,
    "slideshow": {
     "slide_type": ""
    },
    "tags": []
   },
   "outputs": [],
   "source": [
    "radiation_model_greenhouse_effect_and_solar_absorption(\n",
    "    solar_intensity_percent=100.0,\n",
    "    planet_albedo=0.3,\n",
    "    infrared_emissivity=0.9,\n",
    "    optical_absorptivity=0.105,\n",
    ")"
   ]
  },
  {
   "cell_type": "markdown",
   "id": "b742e779-b6be-449f-9f0c-9ae3e1245ea1",
   "metadata": {},
   "source": [
    "## Nästa steg\n",
    "\n",
    "Du har nu kört alla tre modellerna och förstår förhoppningsvis lite hur de fungerar.\n",
    "Använd modellerna för att svara på frågorna i Inlämningsuppgift 1 i Canvas.\n",
    "\n",
    "\n",
    "### Överkurs\n",
    "\n",
    "Om du vill kan du ta en titt på koden för modellerna och försöka förstå den.\n",
    "Den är enklare än du kanske tror!\n",
    "I kommande inlämningsuppgifter kommer du att få skriva egen kod..\n",
    "\n",
    "<div style=\"width: 100%;\">\n",
    "    <div style=\"float: left\"> \n",
    "        <a href=\"modell2_vaxthuseffekt.ipynb\">« Föregående (Energibalansmodell med växthuseffekt)</a>         \n",
    "    </div>\n",
    "</div>"
   ]
  }
 ],
 "metadata": {
  "kernelspec": {
   "display_name": "Python 3 (ipykernel)",
   "language": "python",
   "name": "python3"
  },
  "language_info": {
   "codemirror_mode": {
    "name": "ipython",
    "version": 3
   },
   "file_extension": ".py",
   "mimetype": "text/x-python",
   "name": "python",
   "nbconvert_exporter": "python",
   "pygments_lexer": "ipython3",
   "version": "3.10.13"
  }
 },
 "nbformat": 4,
 "nbformat_minor": 5
}
