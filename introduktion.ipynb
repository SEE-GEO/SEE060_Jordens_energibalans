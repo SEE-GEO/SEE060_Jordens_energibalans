{
 "cells": [
  {
   "cell_type": "markdown",
   "id": "54aff4ea-11ff-49fd-92ce-98849a87b18f",
   "metadata": {},
   "source": [
    "# Introduktion till Inlämning 1: Jordens energibalans\n",
    "\n",
    "Här hittar du Jupyter Notebooks som innehåller tre enkla energibalansmodeller\n",
    "som ni ska använda för att svara på frågorna i **Inlämning 1** för kursen SEE060 Jorden som system.\n",
    "\n",
    "<div class=\"alert alert-block alert-info\"> <b>Info:</b> Vad är Jupyter Notebook?\n",
    "\n",
    "En Jupyter Notebook är ett interaktiv dokument som kan innehålla formatterad text, bilder, och kod.\n",
    "Vi kommer använda notebook-gränssnittet i den här kursen för alla inlämningsuppgifter, så det är bra att bekanta sig med det redan nu.\n",
    "</div>"
   ]
  },
  {
   "cell_type": "markdown",
   "id": "4780f874-4413-466f-919a-835b65b432af",
   "metadata": {},
   "source": [
    "## Hjälp! Jag dubbelklickade på texten och nu ser allt konstigt ut!\n",
    "\n",
    "Ingen panik, du har bara kommit till redigeringsläget.\n",
    "För att göra texten \"normal\" igen så kan du klicka på play-knappen (▶) i verktygsfältet (under `File`, `Edit`, osv.).\n",
    "\n",
    "Som du ser är notebooken uppdelad i olika block,\n",
    "även kallade *celler*.\n",
    "Du markerar celler genom att klicka på dem en gång.\n",
    "När du klickar på play-knappen så kör du koden eller texten i den markerade cellen.\n",
    "Ett annat sätt att snabbt köra en cell är att markera den och trycka på  `Shift+Enter` på tangentbordet."
   ]
  },
  {
   "cell_type": "markdown",
   "id": "ff78f8e7-50b9-4a02-abcd-250240f01177",
   "metadata": {},
   "source": [
    "## Tack och lov, då är jag med. Vad ska jag göra nu?\n",
    "\n",
    "Du ska snart få bekanta dig med modellerna.\n",
    "Det finns en notebook för varje modell som innerhåller en kort beskrivning av modellen,\n",
    "en matematisk härledning,\n",
    "samt själva modellkoden.\n",
    "Du kan börja med att läsa om modellen och försöka följa härledningen\n",
    "(det är OK om du inte förstår allt,\n",
    "men diskutera gärna med andra studenter och i diskussionstråden i Canvas).\n",
    "\n",
    "Därefter ska du köra modellkoden genom att markera kod-cellen och trycka på play-knappen.\n",
    "Du kommer då få ett gränssnitt som låter dig justera värden på olika parametrar i modellen,\n",
    "samt en figur som visar resultatet från modellen.\n",
    "\n",
    "Om du råkar ändra något i notebooken kan du återställa allt genom att clicka på `File` → `Reload Notebook from Disk` → `Reload`.\n",
    "Om detta inte hjälper (du kanske har råkat spara ändringarna) kan du stänga ner hela sidan och öppna länken igen.\n",
    "Då återställs allt.\n",
    "\n",
    "För att återställa värdena på parametrarna till ursprungsvärden är det bara att köra om modellkoden med play-knappen.\n",
    "\n",
    "Innan vi går vidare så kommer först en allmän introduktion till modellerna."
   ]
  },
  {
   "cell_type": "markdown",
   "id": "2ee8913d-3bd5-4e5e-9808-e137f8c5e7c4",
   "metadata": {},
   "source": [
    "## Allmän introduktion till modellerna\n",
    "\n",
    "Vår planet värms upp genom absorption av kortvågig solstrålning och kyls av genom att återsända infraröd strålning till rymden.\n",
    "När strålningsbalansen rubbas kommer temperaturen att ändras för att uppnå en ny balans.\n",
    "\n",
    "De så kallade *energibalansmodeller* vi kommer jobba med beräknar temperaturen vid jämvikt mellan inkommande och utgående strålning.\n",
    "Den första modellen försummar atmosfären och ger endast temperaturen vid jordens yta.\n",
    "De två senare modellerna innehåller en enkel atmosfär bestående av ett lager och beräknar även atmosfärens temperatur vid jämvikt.\n",
    "\n",
    "<figure>\n",
    "    <img src=\"media/kump_3_box2.png\" alt=\"Enkel energibalansmodell\" width=\"600px\">\n",
    "    <figcaption>Bild på en enkel energibalansmodell från kursboken (Kump, The Earth System)</figcaption>\n",
    "</figure>\n",
    "\n",
    "Alla tre modeller använder en solkonstant på 1361,0 W/m<sup>2</sup>, som brukar kallas $S_0$.\n",
    "Solinstrålningen för en viss punkt på jorden beror på solstrålningens intensitet,\n",
    "men även breddgraden och tid på dygnet.\n",
    "Om man beräknar medelvärdet för den inkommande solstrålningen över hela jorden vid en viss tidpunkt\n",
    "(vilket då inkluderar både dag- och nattsidan)\n",
    "får man värdet $S_0/4$.\n",
    "Alla modellerna här gäller för det globala medelvärdet och är alltså inte representativa för en viss plats på jorden.\n",
    "\n",
    "\n",
    "### Antaganden\n",
    "\n",
    "Modellerna antar att marken och atmosfären emitterar enligt Stefan-Boltzmanns lag.\n",
    "Marken antas ha en emissivitet på 1 för infraröd strålning.\n",
    "\n",
    "<details>\n",
    "<summary>Detaljer</summary>\n",
    "Modellerna beskriver absorptionen i atmosfären som en enkelriktad dämpning.\n",
    "(Den verkliga atmosfären fungerar som ett komplext system där strålning absorberas, sprids, reflekteras och återutsänds i alla riktningar.)\n",
    "\n",
    "All absorption i atmosfären antas ske i ett atmosfärlager som ligger ovanför den nivå där reflektion av solljus sker.\n",
    "</details>"
   ]
  },
  {
   "cell_type": "markdown",
   "id": "2b0d1218-d8dc-457a-92a7-493ae2f14861",
   "metadata": {},
   "source": [
    "## Nästa steg\n",
    "\n",
    "Fortsätt till den enklaste energibalansmodellen genom att klicka på Nästa nere till höger.\n",
    "\n",
    "<div style=\"width: 100%;\">\n",
    "    <div style=\"text-align: right\"> \n",
    "        <a href=\"modell1_enklast.ipynb\">Nästa (Den enklaste energibalansmodellen) »</a>\n",
    "    </div>\n",
    "</div>"
   ]
  }
 ],
 "metadata": {
  "kernelspec": {
   "display_name": "Python 3 (ipykernel)",
   "language": "python",
   "name": "python3"
  },
  "language_info": {
   "codemirror_mode": {
    "name": "ipython",
    "version": 3
   },
   "file_extension": ".py",
   "mimetype": "text/x-python",
   "name": "python",
   "nbconvert_exporter": "python",
   "pygments_lexer": "ipython3",
   "version": "3.10.13"
  }
 },
 "nbformat": 4,
 "nbformat_minor": 5
}
