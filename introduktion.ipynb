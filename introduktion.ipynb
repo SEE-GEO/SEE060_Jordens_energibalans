{
 "cells": [
  {
   "cell_type": "markdown",
   "id": "54aff4ea-11ff-49fd-92ce-98849a87b18f",
   "metadata": {},
   "source": [
    "# Välkommen till Jupyter Notebooks!\n",
    "\n",
    "Här hittar du tre interaktiva energibalansmodeller som du kommer använda för att slutföra uppgifterna i **Inlämning 1** för kursen SEE060 Jorden som system.\n",
    "\n",
    "<div class=\"alert alert-block alert-info\">\n",
    "<b>Info:</b> Vad är Jupyter Notebook?\n",
    "\n",
    "En Jupyter Notebook är ett interaktiv dokument som kan innehålla formatterad text, matematiska formler, bilder, och kod.\n",
    "Vi kommer använda notebook-gränssnittet i den här kursen för alla inlämningsuppgifter, så det är bra att bekanta sig med det redan nu.\n",
    "</div>"
   ]
  },
  {
   "cell_type": "markdown",
   "id": "dfbe134d-a2dd-4310-8e1c-95fac03ae687",
   "metadata": {},
   "source": [
    "**Testa att dubbelklicka här.**"
   ]
  },
  {
   "cell_type": "markdown",
   "id": "a7533ef6-26d5-4091-be4c-cd9496c55949",
   "metadata": {},
   "source": [
    "Texten ska nu se annorlunda ut - du har kommit till redigeringsläget där du kan göra ändringar.\n",
    "\n",
    "För att återgå till \"normalläge\" kan du:\n",
    "- Klicka på \"kör\"-knappen (▶) i verktygsfältet ovanför all text.\n",
    "- Trycka på `Shift+Enter` på tangentbordet."
   ]
  },
  {
   "cell_type": "markdown",
   "id": "b7c60af9-ef9f-42eb-bf22-93ed4bb1be8e",
   "metadata": {},
   "source": [
    "Som du ser är notebooken uppdelad i olika block,\n",
    "så kallade *celler*.\n",
    "Celler kan innehåll text eller kod.\n",
    "\n",
    "Du markerar en cell genom att klicka på den en gång.\n",
    "När du kör en kodcell kommer koden inuti att köras, och resultatet visas direkt under cellen.\n",
    "\n",
    "**Testa att markera och köra kodcellen nedan:**"
   ]
  },
  {
   "cell_type": "code",
   "execution_count": null,
   "id": "655987f2-37f2-4610-8003-357b7a54d921",
   "metadata": {},
   "outputs": [],
   "source": [
    "print(1 + 1)"
   ]
  },
  {
   "cell_type": "markdown",
   "id": "5fd3ab2d-c961-49ee-88e4-e0e8aacfb37f",
   "metadata": {},
   "source": [
    "När du känner dig bekväm med gränssnittet kan du klicka på knappen nedan för att starta inlämningsuppgiften.\n",
    "\n",
    "<div style=\"text-align: center;\">\n",
    "<a href=\"instruktioner.ipynb\" target=\"_blank\" style=\"text-decoration:none;\">\n",
    "    <button style=\"background-color: #4CAF50; color: white; padding: 10px 20px; border: none; border-radius: 5px; cursor: pointer;\">Starta inlämningsuppgift 1</button>\n",
    "</a>\n",
    "</div>"
   ]
  }
 ],
 "metadata": {
  "kernelspec": {
   "display_name": "Python 3 (ipykernel)",
   "language": "python",
   "name": "python3"
  },
  "language_info": {
   "codemirror_mode": {
    "name": "ipython",
    "version": 3
   },
   "file_extension": ".py",
   "mimetype": "text/x-python",
   "name": "python",
   "nbconvert_exporter": "python",
   "pygments_lexer": "ipython3",
   "version": "3.10.13"
  }
 },
 "nbformat": 4,
 "nbformat_minor": 5
}
