{
 "cells": [
  {
   "cell_type": "markdown",
   "id": "54aff4ea-11ff-49fd-92ce-98849a87b18f",
   "metadata": {},
   "source": [
    "# Instruktioner\n",
    "\n",
    "Du ska snart få bekanta dig med modellerna.\n",
    "Det finns en notebook för varje modell som innerhåller:\n",
    "- En kort beskrivning av modellen.\n",
    "- En matematisk härledning.\n",
    "- Modellkoden.\n",
    "\n",
    "Börja med att läsa om modellen och försök följa härledningen.\n",
    "Det är OK om du inte förstår allt innan du går vidare,\n",
    "men diskutera gärna med andra studenter,\n",
    "t.ex. via Diskussioner i Canvas.\n",
    "\n",
    "Kör därefter modellkoden genom att markera kodcellen och trycka på kör-knappen.\n",
    "Efter en kort stund kommer ett grafiskt gränssnitt att visas.\n",
    "Här kan du justera olika parametrar i modellen.\n",
    "Resultatet från modellen visas som en eller flera termometrar.\n",
    "\n",
    "Om du råkar ändra något i notebooken kan du återställa allt genom att klicka på `File` → `Reload Notebook from Disk`.\n",
    "Om detta inte löser problemet kan du stänga sidan helt och öppna länken igen.\n",
    "Då återställs allt.\n",
    "\n",
    "För att återställa parametrarna till deras ursprungliga värden behöver du bara köra om modellekoden genom att klicka på kör-knappen.\n",
    "\n",
    "Innan vi går vidare kommer först en kort introduktion till modellerna."
   ]
  },
  {
   "cell_type": "markdown",
   "id": "2ee8913d-3bd5-4e5e-9808-e137f8c5e7c4",
   "metadata": {},
   "source": [
    "## Om modellerna\n",
    "\n",
    "Vår planet värms upp genom absorption av kortvågig solstrålning och kyls av genom att återsända infraröd strålning till rymden.\n",
    "När strålningsbalansen rubbas kommer temperaturen att ändras för att uppnå en ny balans.\n",
    "\n",
    "De så kallade *energibalansmodeller* som vi kommer att arbeta med beräknar temperaturen vid jämvikt mellan inkommande och utgående strålning.\n",
    "Den första modellen försummar atmosfären och ger endast temperaturen vid jordens yta.\n",
    "De två senare modellerna innehåller en enkel atmosfär bestående av ett lager och beräknar även atmosfärens temperatur vid jämvikt.\n",
    "\n",
    "<figure>\n",
    "    <img src=\"media/kump_3_box2.png\" alt=\"Enkel energibalansmodell\" width=\"600px\">\n",
    "    <figcaption>Bild på en enkel energibalansmodell från kursboken (Kump, The Earth System)</figcaption>\n",
    "</figure>\n",
    "\n",
    "Alla tre modeller använder en solkonstant på 1361.0 W/m<sup>2</sup>, som brukar betecknas $S_0$.\n",
    "Solinstrålningen för en viss punkt på jorden beror på solstrålningens intensitet,\n",
    "men även breddgraden och tid på dygnet.\n",
    "Om man beräknar medelvärdet för den inkommande solstrålningen över hela jorden vid en viss tidpunkt\n",
    "(inklusive både dag- och nattsidan)\n",
    "får man värdet $S_0/4$.\n",
    "De modeller som presenteras här gäller för det globala medelvärdet och är därför inte representativa för en viss plats på jorden.\n",
    "\n",
    "\n",
    "### Antaganden\n",
    "\n",
    "Modellerna antar att marken och atmosfären emitterar enligt Stefan-Boltzmanns lag.\n",
    "Marken antas ha en emissivitet på 1 för infraröd strålning.\n",
    "\n",
    "<details>\n",
    "<summary>Detaljer</summary>\n",
    "Modellerna beskriver absorptionen i atmosfären som en enkelriktad dämpning.\n",
    "(Den verkliga atmosfären fungerar som ett komplext system där strålning absorberas, sprids, reflekteras och återutsänds i alla riktningar.)\n",
    "\n",
    "All absorption i atmosfären antas ske i ett atmosfärlager som ligger ovanför den nivå där reflektion av solljus sker.\n",
    "</details>"
   ]
  },
  {
   "cell_type": "markdown",
   "id": "2b0d1218-d8dc-457a-92a7-493ae2f14861",
   "metadata": {
    "editable": false,
    "slideshow": {
     "slide_type": ""
    },
    "tags": []
   },
   "source": [
    "## Nästa steg\n",
    "\n",
    "Fortsätt till den enklaste energibalansmodellen genom att klicka på Nästa nere till höger.\n",
    "\n",
    "<div style=\"width: 100%;\">\n",
    "    <div style=\"float: left\"> \n",
    "        <a href=\"introduktion.ipynb\">« Föregående (Introduktion)</a>\n",
    "    </div>\n",
    "    <div style=\"text-align: right\"> \n",
    "        <a href=\"modell1_enklast.ipynb\">Nästa (Den enklaste energibalansmodellen) »</a>\n",
    "    </div>\n",
    "</div>"
   ]
  }
 ],
 "metadata": {
  "kernelspec": {
   "display_name": "Python 3 (ipykernel)",
   "language": "python",
   "name": "python3"
  },
  "language_info": {
   "codemirror_mode": {
    "name": "ipython",
    "version": 3
   },
   "file_extension": ".py",
   "mimetype": "text/x-python",
   "name": "python",
   "nbconvert_exporter": "python",
   "pygments_lexer": "ipython3",
   "version": "3.13.2"
  }
 },
 "nbformat": 4,
 "nbformat_minor": 5
}
