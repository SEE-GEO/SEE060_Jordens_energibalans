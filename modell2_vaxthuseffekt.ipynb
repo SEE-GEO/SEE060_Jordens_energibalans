{
 "cells": [
  {
   "cell_type": "markdown",
   "id": "0f0cd9f3-28c8-4a42-b191-06b9dbe4d74a",
   "metadata": {},
   "source": [
    "# Energibalansmodell med växthuseffekt"
   ]
  },
  {
   "cell_type": "markdown",
   "id": "accd71a5-3131-40af-b843-ddd07485d29f",
   "metadata": {},
   "source": [
    "## Beskrivning\n",
    "\n",
    "I nästa modell har vi lagt till ett lager atmosfär som absorberar värmestrålning från Jorden.\n",
    "Hur effektivt atmosfären absorberar värmestrålningen (d.v.s. styrkan på växthuseffekten)\n",
    "ges av dess emissivitet $\\varepsilon$.\n",
    "\n",
    "Vid jämvikt har atmosfären värmts upp och utstrålar lika mycket värmestrålning i båda riktningarna upp och ner.\n",
    "All nedåtriktad värmestrålning antas absorberas av marken.\n",
    "\n",
    "<figure>\n",
    "    <img src=\"media/modell2.png\" alt=\"Energibalansmodell med växthuseffekt\" width=\"600px\">\n",
    "    <figcaption>Bild på energibalansmodell med växthuseffekt i ett atmosfärslager</figcaption>\n",
    "</figure>\n",
    "\n",
    "Modelen beräknar både markens och atmosfärens temperatur vid jämvikt beroende på tre parametrar:\n",
    "\n",
    "- Solstrålningens intensitet (i förhållande till dagens värde) ($S$)\n",
    "- Planetens albedo ($A$)\n",
    "- Atmosfärens emissivitet ($\\varepsilon$)"
   ]
  },
  {
   "cell_type": "markdown",
   "id": "06d0206f-0291-41cf-9a31-23a44ebca599",
   "metadata": {},
   "source": [
    "## Matematisk härledning\n",
    "\n",
    "### Variabler\n",
    "\n",
    "- $T_s$: Markens temperatur\n",
    "- $T_a$: Atmosfärens temperatur\n",
    "- $S$: Solstrålningens intensitet\n",
    "- $A$: Planetens albedo\n",
    "- $\\varepsilon$: Atmosfären emissivitet för infraröd strålning\n",
    "- $\\sigma$: Stefan-Boltzmanns konstant\n",
    "\n",
    "### Härledning\n",
    "\n",
    "Jämvikt vid atmosfären kräver att\n",
    "$$\\varepsilon \\sigma T_s^4 = 2\\varepsilon\\sigma T_a^4$$\n",
    "\n",
    "$2$:an på högra sidan av likhetstecknet kommer från att atmosfären utstrålar värmestrålning i två riktningar (upp och ner).\n",
    "\n",
    "Efter förenkling får vi att\n",
    "$$T_s^4 = 2 T_a^4$$\n",
    "\n",
    "Det här är en ekvation med två okända,\n",
    "så det finns oändligt med lösningar.\n",
    "För att hitta en unik lösning behöver i en till ekvation.\n",
    "Det kan vi få genom att kräva att det ska vara jämvikt vid toppen av atmosfären\n",
    "(vi hade även kunnat kräva jämvikt vid marken).\n",
    "Detta ger:\n",
    "$$\\frac{S}{4} = \\frac{S}{4} A + (1 - \\varepsilon) \\sigma T_s^4 + \\varepsilon \\sigma T_a^4 $$\n",
    "\n",
    "Lös nu ut $T_s$ eller $T_a$ genom substitutionsmetoden\n",
    "(genom att byta ut ena variabeln mot den andra med hjälp av den första ekvationen).\n",
    "Detta kan vara lite klurigt,\n",
    "men försök gärna på egen hand först."
   ]
  },
  {
   "cell_type": "markdown",
   "id": "40accdce-fd35-4d9e-b5e5-8d2186cd64ad",
   "metadata": {},
   "source": [
    "<details>\n",
    "<summary><b>Lösning</b></summary>\n",
    "För jämviktstemperaturen vid marken får vi:\n",
    "$$T_s = \\left( \\frac{S(1-A)}{\\sigma (4 - 2\\varepsilon)} \\right)^{1/4}$$\n",
    "\n",
    "Motsvarande temperatur i atmosfären vid jämvikt:\n",
    "$$T_a = \\left( \\frac{S(1-A)}{\\sigma (8 - 4\\varepsilon)} \\right)^{1/4}$$\n",
    "\n",
    "Vi kan göra en snabb koll om vi gjort rätt genom att sätta $\\varepsilon$ till $0$.\n",
    "Detta borde ge samma uttryck för $T_s$ som i den första modellen utan växthuseffekt.\n",
    "Det här bevisar inte att allt är rätt,\n",
    "men det kan ibland (men inte alltid!) visa om något är helt galet.\n",
    "</details>"
   ]
  },
  {
   "cell_type": "markdown",
   "id": "c3b06d93-806c-4a28-aee1-d711450863f4",
   "metadata": {},
   "source": [
    "## Modellkod\n",
    "\n",
    "Låt oss testa att köra den andra modellen.\n",
    "Du kommer få två resultat,\n",
    "ett för markens jämviktstemperatur och ett annat för atmosfärens.\n",
    "\n",
    "<div class=\"alert alert-block alert-info\">\n",
    "    <b>Obs:</b> Cellen nedan är skrivskyddad.\n",
    "</div>"
   ]
  },
  {
   "cell_type": "code",
   "execution_count": null,
   "id": "9b619998-6a52-4a89-9b46-cf26ec14e2a5",
   "metadata": {
    "editable": false
   },
   "outputs": [],
   "source": [
    "%matplotlib widget\n",
    "import constants\n",
    "import model\n",
    "\n",
    "\n",
    "def radiation_model_greenhouse_effect(\n",
    "    solar_intensity_percent, planet_albedo, infrared_emissivity\n",
    "):\n",
    "    \"\"\"Energy balance model of the Earth that includes the greenhouse effect.\n",
    "\n",
    "    Returns the surface and atmospheric temperatures in degree Celsius.\n",
    "    \"\"\"\n",
    "    solar_intensity = solar_intensity_percent / 100 * constants.SOLAR_INTENSITY\n",
    "    sigma = constants.STEFAN_BOLTZMANN_CONSTANT\n",
    "\n",
    "    sfc_temp_K = (\n",
    "        (solar_intensity * (1 - planet_albedo))\n",
    "        / (2 * sigma * (2 - infrared_emissivity))\n",
    "    ) ** (1 / 4)\n",
    "\n",
    "    atm_temp_K = (\n",
    "        (solar_intensity * (1 - planet_albedo))\n",
    "        / (sigma * (8 - 4 * infrared_emissivity))\n",
    "    ) ** (1 / 4)\n",
    "    \n",
    "    sfc_temp_C = sfc_temp_K + constants.ABSOLUTE_ZERO_DEG_C\n",
    "    atm_temp_C = atm_temp_K + constants.ABSOLUTE_ZERO_DEG_C\n",
    "    \n",
    "    temperatures = {\n",
    "        \"Surface temperature\": sfc_temp_C,\n",
    "        \"Atmospheric temperature\": atm_temp_C,\n",
    "    }\n",
    "\n",
    "    return temperatures\n",
    "\n",
    "\n",
    "temperatures = radiation_model_greenhouse_effect(\n",
    "    solar_intensity_percent=100.0, planet_albedo=0.3, infrared_emissivity=0.9\n",
    ")\n",
    "\n",
    "model.run(\n",
    "    temperatures,\n",
    "    radiation_model=radiation_model_greenhouse_effect,\n",
    "    variables=[\"solar\", \"albedo\", \"emissivity\"],\n",
    ")"
   ]
  },
  {
   "cell_type": "markdown",
   "id": "b742e779-b6be-449f-9f0c-9ae3e1245ea1",
   "metadata": {},
   "source": [
    "## Nästa steg\n",
    "\n",
    "Du är nu redo att ta dig an energibalansmodellen med växthuseffekt och absorption av solstrålning.\n",
    "\n",
    "\n",
    "<div style=\"width: 100%;\">\n",
    "    <div style=\"float: left\"> \n",
    "        <a href=\"modell1_enklast.ipynb\">« Föregående (Den enklaste energibalansmodellen)</a>         \n",
    "    </div>\n",
    "    <div style=\"text-align: right\"> \n",
    "        <a href=\"modell3_vaxthuseffekt_och_absorption.ipynb\">Nästa (Energibalansmodell med växthuseffekt och absorption av solstrålning) »</a>\n",
    "    </div>\n",
    "</div>"
   ]
  }
 ],
 "metadata": {
  "kernelspec": {
   "display_name": "Python 3 (ipykernel)",
   "language": "python",
   "name": "python3"
  },
  "language_info": {
   "codemirror_mode": {
    "name": "ipython",
    "version": 3
   },
   "file_extension": ".py",
   "mimetype": "text/x-python",
   "name": "python",
   "nbconvert_exporter": "python",
   "pygments_lexer": "ipython3",
   "version": "3.10.13"
  }
 },
 "nbformat": 4,
 "nbformat_minor": 5
}
