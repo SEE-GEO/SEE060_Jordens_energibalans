{
 "cells": [
  {
   "cell_type": "markdown",
   "id": "0f0cd9f3-28c8-4a42-b191-06b9dbe4d74a",
   "metadata": {},
   "source": [
    "# Den enklaste energibalansmodellen"
   ]
  },
  {
   "cell_type": "markdown",
   "id": "accd71a5-3131-40af-b843-ddd07485d29f",
   "metadata": {
    "jp-MarkdownHeadingCollapsed": true
   },
   "source": [
    "## Beskrivning\n",
    "\n",
    "Den enklaste energibalansmodellen beräknar markens temperatur vid jämvikt om Jorden inte hade en atmosfär.\n",
    "I modellen reflekteras en del av solstrålningen vid jordytan,\n",
    "och en del absorberas.\n",
    "Marken kyls av genom att utsända värmestrålning.\n",
    "\n",
    "<figure>\n",
    "    <img src=\"media/modell1.png\" alt=\"Enklaste modellen\" width=\"600px\">\n",
    "    <figcaption>Bild på den enklaste energibalansmodellen utan atmosfär</figcaption>\n",
    "</figure>\n",
    "\n",
    "Modelen har två parametrar:\n",
    "\n",
    "- Solstrålningens intensitet (i förhållande till dagens värde) ($S$)\n",
    "- Planetens albedo ($A$)\n",
    "\n",
    "Notera att solstrålnings intensitet anges i förhållande till dagens värde i procent.\n",
    "Med andra ord erhålls solstrålningens intensitet genom att multiplicera procenten med solkonstanten $S_0$.\n",
    "Medelvärdet över hela jordytan får man sedan genom att dividera intensiteten med $4$.\n",
    "\n",
    "Albedot $A$ (mellan 0 och 1) anger den andel av solstrålningen som absorberas vid jordytan.\n",
    "Den andel som reflekteras är då $1 - A$."
   ]
  },
  {
   "cell_type": "markdown",
   "id": "06d0206f-0291-41cf-9a31-23a44ebca599",
   "metadata": {},
   "source": [
    "## Matematisk härledning\n",
    "\n",
    "### Variabler\n",
    "\n",
    "- $T_s$: Markens temperatur ($s$ står för *surface*)\n",
    "- $S$: Solstrålningens intensitet\n",
    "- $A$: Planetens albedo\n",
    "- $\\sigma$: Stefan-Boltzmanns konstant\n",
    "\n",
    "\n",
    "### Härledning\n",
    "\n",
    "Vid marken balanseras den inkommande solstrålningen av reflekterad solstrålning och markens emitterade värmestrålning:\n",
    "\n",
    "$$\\frac{S}{4}(1-A) = \\sigma T_s^4$$\n",
    "\n",
    "Bryt ut $T_s$.\n",
    "Försök gärna själv innan du tittar på lösningen."
   ]
  },
  {
   "cell_type": "markdown",
   "id": "1f4539db-0bec-4f73-9ccf-81ae3a961f30",
   "metadata": {},
   "source": [
    "<details>\n",
    "<summary><b>Lösning</b></summary>\n",
    "Genom att arrangera om ekvaktionen borde du få:\n",
    "\n",
    "$$T_s = \\left( \\frac{S(1-A)}{4\\sigma} \\right)^{1/4}$$\n",
    "\n",
    "Det är det här som modeller beräknar utifrån de angivna parametervärdena.\n",
    "</details>"
   ]
  },
  {
   "cell_type": "markdown",
   "id": "c3b06d93-806c-4a28-aee1-d711450863f4",
   "metadata": {},
   "source": [
    "## Modellkod\n",
    "\n",
    "Markera kodcellen nedan genom att klicka på den och tryck sedan på play-knappen.\n",
    "Du kommer då få upp gränssnittet för modellen under koden.\n",
    "\n",
    "<div class=\"alert alert-block alert-info\">\n",
    "    <b>Obs:</b> Cellen nedan är skrivskyddad.\n",
    "</div>"
   ]
  },
  {
   "cell_type": "code",
   "execution_count": null,
   "id": "c09f3368-0bf3-490e-bf55-1613900bc34c",
   "metadata": {
    "editable": false
   },
   "outputs": [],
   "source": [
    "%matplotlib widget\n",
    "import constants\n",
    "import utils\n",
    "\n",
    "\n",
    "def radiation_model_simplest(solar_intensity_percent, planet_albedo):\n",
    "    \"\"\"Simplest version of the energy balance model of the Earth.\n",
    "\n",
    "    Considers only solar intensity and the planet's surface albedo.\n",
    "\n",
    "    Returns the surface temperature in degree Celsius.\n",
    "    \"\"\"\n",
    "    solar_intensity = solar_intensity_percent / 100 * constants.SOLAR_INTENSITY\n",
    "    sigma = constants.STEFAN_BOLTZMANN_CONSTANT\n",
    "\n",
    "    sfc_temp_K = ((solar_intensity * (1 - planet_albedo)) / (4 * sigma)) ** (1 / 4)\n",
    "\n",
    "    sfc_temp_C = sfc_temp_K + constants.ABSOLUTE_ZERO_DEG_C\n",
    "    \n",
    "    temperatures = {\"Surface temperature\": sfc_temp_C}\n",
    "\n",
    "    return temperatures\n",
    "\n",
    "\n",
    "temperatures = radiation_model_simplest(solar_intensity_percent=100, planet_albedo=0.3)\n",
    "\n",
    "\n",
    "utils.display_model(\n",
    "    temperatures,\n",
    "    radiation_model=radiation_model_simplest,\n",
    "    variables=[\"solar\", \"albedo\"],\n",
    ")"
   ]
  },
  {
   "cell_type": "markdown",
   "id": "eaba5106-7e40-417f-800b-626a4ae1fec8",
   "metadata": {},
   "source": [
    "Testa att ändra modellparametrarna och se hur det påverkar den simulerade marktemperaturen.\n",
    "\n",
    "<div class=\"alert alert-block alert-info\"> <b>Tips:</b> Du kan skriva in exakta parametervärden om du klickar på en siffra till höger.\n",
    "\n",
    "Notera att endast punkt (t.ex. 0.1) kan användas som decimaltecken. Kommatecken (t.ex. 0,1) fungerar inte.\n",
    "</div>"
   ]
  },
  {
   "cell_type": "markdown",
   "id": "b742e779-b6be-449f-9f0c-9ae3e1245ea1",
   "metadata": {},
   "source": [
    "## Nästa steg\n",
    "\n",
    "Fortsätt med energibalansmodellen med växthuseffekt genom att klicka på Nästa nedan.\n",
    "\n",
    "<div style=\"width: 100%;\">\n",
    "    <div style=\"float: left\"> \n",
    "        <a href=\"introduktion.ipynb\">« Föregående (Introduktion)</a>         \n",
    "    </div>\n",
    "    <div style=\"text-align: right\"> \n",
    "        <a href=\"modell2_vaxthuseffekt.ipynb\">Nästa (Energibalansmodell med växthuseffekt) »</a>\n",
    "    </div>\n",
    "</div>"
   ]
  }
 ],
 "metadata": {
  "kernelspec": {
   "display_name": "Python 3 (ipykernel)",
   "language": "python",
   "name": "python3"
  },
  "language_info": {
   "codemirror_mode": {
    "name": "ipython",
    "version": 3
   },
   "file_extension": ".py",
   "mimetype": "text/x-python",
   "name": "python",
   "nbconvert_exporter": "python",
   "pygments_lexer": "ipython3",
   "version": "3.10.13"
  }
 },
 "nbformat": 4,
 "nbformat_minor": 5
}
